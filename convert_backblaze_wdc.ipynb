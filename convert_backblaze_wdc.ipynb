{
 "cells": [
  {
   "cell_type": "markdown",
   "metadata": {},
   "source": [
    "This notebook reads in the data and saves it as a train/test/validate split. \n",
    "\n",
    "Next notebook will get us some summary s about each set. "
   ]
  },
  {
   "cell_type": "code",
   "execution_count": 1,
   "metadata": {},
   "outputs": [],
   "source": [
    "import gc\n",
    "import os\n",
    "import pdb\n",
    "import random\n",
    "\n",
    "import numpy as np\n",
    "import pandas as pd\n",
    "import dask.dataframe as dd\n",
    "from dask.diagnostics import ProgressBar\n",
    "\n",
    "from matplotlib import pyplot as plt\n",
    "import seaborn as sns\n",
    "\n",
    "pbar = ProgressBar()\n",
    "pbar.register()"
   ]
  },
  {
   "cell_type": "code",
   "execution_count": 2,
   "metadata": {},
   "outputs": [],
   "source": [
    "# inferred int32 types cause a type mismatch (int vs float) error when dask sees a null value\n",
    "# null values cannot be interpreted as ints\n",
    "custom_dtypes = {\n",
    "    \"date\": \"object\",\n",
    "    \"serial_number\": \"object\",\n",
    "    \"model\": \"object\",\n",
    "    \"capacity_bytes\": \"float32\",\n",
    "    \"failure\": \"float32\",\n",
    "    \"smart_1_normalized\": \"float32\",\n",
    "    \"smart_1_raw\": \"float32\",\n",
    "    \"smart_2_normalized\": \"float32\",\n",
    "    \"smart_2_raw\": \"float32\",\n",
    "    \"smart_3_normalized\": \"float32\",\n",
    "    \"smart_3_raw\": \"float32\",\n",
    "    \"smart_4_normalized\": \"float32\",\n",
    "    \"smart_4_raw\": \"float32\",\n",
    "    \"smart_5_normalized\": \"float32\",\n",
    "    \"smart_5_raw\": \"float32\",\n",
    "    \"smart_7_normalized\": \"float32\",\n",
    "    \"smart_7_raw\": \"float32\",\n",
    "    \"smart_8_normalized\": \"float32\",\n",
    "    \"smart_8_raw\": \"float32\",\n",
    "    \"smart_9_normalized\": \"float32\",\n",
    "    \"smart_9_raw\": \"float32\",\n",
    "    \"smart_10_normalized\": \"float32\",\n",
    "    \"smart_10_raw\": \"float32\",\n",
    "    \"smart_11_normalized\": \"float32\",\n",
    "    \"smart_11_raw\": \"float32\",\n",
    "    \"smart_12_normalized\": \"float32\",\n",
    "    \"smart_12_raw\": \"float32\",\n",
    "    \"smart_13_normalized\": \"float32\",\n",
    "    \"smart_13_raw\": \"float32\",\n",
    "    \"smart_15_normalized\": \"float32\",\n",
    "    \"smart_15_raw\": \"float32\",\n",
    "    \"smart_16_normalized\": \"float32\",\n",
    "    \"smart_16_raw\": \"float32\",\n",
    "    \"smart_17_normalized\": \"float32\",\n",
    "    \"smart_17_raw\": \"float32\",\n",
    "    \"smart_22_normalized\": \"float32\",\n",
    "    \"smart_22_raw\": \"float32\",\n",
    "    \"smart_23_normalized\": \"float32\",\n",
    "    \"smart_23_raw\": \"float32\",\n",
    "    \"smart_24_normalized\": \"float32\",\n",
    "    \"smart_24_raw\": \"float32\",\n",
    "    \"smart_168_normalized\": \"float32\",\n",
    "    \"smart_168_raw\": \"float32\",\n",
    "    \"smart_170_normalized\": \"float32\",\n",
    "    \"smart_170_raw\": \"float32\",\n",
    "    \"smart_173_normalized\": \"float32\",\n",
    "    \"smart_173_raw\": \"float32\",\n",
    "    \"smart_174_normalized\": \"float32\",\n",
    "    \"smart_174_raw\": \"float32\",\n",
    "    \"smart_177_normalized\": \"float32\",\n",
    "    \"smart_177_raw\": \"float32\",\n",
    "    \"smart_179_normalized\": \"float32\",\n",
    "    \"smart_179_raw\": \"float32\",\n",
    "    \"smart_181_normalized\": \"float32\",\n",
    "    \"smart_181_raw\": \"float32\",\n",
    "    \"smart_182_normalized\": \"float32\",\n",
    "    \"smart_182_raw\": \"float32\",\n",
    "    \"smart_183_normalized\": \"float32\",\n",
    "    \"smart_183_raw\": \"float32\",\n",
    "    \"smart_184_normalized\": \"float32\",\n",
    "    \"smart_184_raw\": \"float32\",\n",
    "    \"smart_187_normalized\": \"float32\",\n",
    "    \"smart_187_raw\": \"float32\",\n",
    "    \"smart_188_normalized\": \"float32\",\n",
    "    \"smart_188_raw\": \"float32\",\n",
    "    \"smart_189_normalized\": \"float32\",\n",
    "    \"smart_189_raw\": \"float32\",\n",
    "    \"smart_190_normalized\": \"float32\",\n",
    "    \"smart_190_raw\": \"float32\",\n",
    "    \"smart_191_normalized\": \"float32\",\n",
    "    \"smart_191_raw\": \"float32\",\n",
    "    \"smart_192_normalized\": \"float32\",\n",
    "    \"smart_192_raw\": \"float32\",\n",
    "    \"smart_193_normalized\": \"float32\",\n",
    "    \"smart_193_raw\": \"float32\",\n",
    "    \"smart_194_normalized\": \"float32\",\n",
    "    \"smart_194_raw\": \"float32\",\n",
    "    \"smart_195_normalized\": \"float32\",\n",
    "    \"smart_195_raw\": \"float32\",\n",
    "    \"smart_196_normalized\": \"float32\",\n",
    "    \"smart_196_raw\": \"float32\",\n",
    "    \"smart_197_normalized\": \"float32\",\n",
    "    \"smart_197_raw\": \"float32\",\n",
    "    \"smart_198_normalized\": \"float32\",\n",
    "    \"smart_198_raw\": \"float32\",\n",
    "    \"smart_199_normalized\": \"float32\",\n",
    "    \"smart_199_raw\": \"float32\",\n",
    "    \"smart_200_normalized\": \"float32\",\n",
    "    \"smart_200_raw\": \"float32\",\n",
    "    \"smart_201_normalized\": \"float32\",\n",
    "    \"smart_201_raw\": \"float32\",\n",
    "    \"smart_218_normalized\": \"float32\",\n",
    "    \"smart_218_raw\": \"float32\",\n",
    "    \"smart_220_normalized\": \"float32\",\n",
    "    \"smart_220_raw\": \"float32\",\n",
    "    \"smart_222_normalized\": \"float32\",\n",
    "    \"smart_222_raw\": \"float32\",\n",
    "    \"smart_223_normalized\": \"float32\",\n",
    "    \"smart_223_raw\": \"float32\",\n",
    "    \"smart_224_normalized\": \"float32\",\n",
    "    \"smart_224_raw\": \"float32\",\n",
    "    \"smart_225_normalized\": \"float32\",\n",
    "    \"smart_225_raw\": \"float32\",\n",
    "    \"smart_226_normalized\": \"float32\",\n",
    "    \"smart_226_raw\": \"float32\",\n",
    "    \"smart_231_normalized\": \"float32\",\n",
    "    \"smart_231_raw\": \"float32\",\n",
    "    \"smart_232_normalized\": \"float32\",\n",
    "    \"smart_232_raw\": \"float32\",\n",
    "    \"smart_233_normalized\": \"float32\",\n",
    "    \"smart_233_raw\": \"float32\",\n",
    "    \"smart_235_normalized\": \"float32\",\n",
    "    \"smart_235_raw\": \"float32\",\n",
    "    \"smart_240_normalized\": \"float32\",\n",
    "    \"smart_240_raw\": \"float32\",\n",
    "    \"smart_241_normalized\": \"float32\",\n",
    "    \"smart_241_raw\": \"float32\",\n",
    "    \"smart_242_normalized\": \"float32\",\n",
    "    \"smart_242_raw\": \"float32\",\n",
    "    \"smart_250_normalized\": \"float32\",\n",
    "    \"smart_250_raw\": \"float32\",\n",
    "    \"smart_251_normalized\": \"float32\",\n",
    "    \"smart_251_raw\": \"float32\",\n",
    "    \"smart_252_normalized\": \"float32\",\n",
    "    \"smart_252_raw\": \"float32\",\n",
    "    \"smart_254_normalized\": \"float32\",\n",
    "    \"smart_254_raw\": \"float32\",\n",
    "    \"smart_255_normalized\": \"float32\",\n",
    "    \"smart_255_raw\": \"float32\",\n",
    "}"
   ]
  },
  {
   "cell_type": "code",
   "execution_count": 3,
   "metadata": {},
   "outputs": [],
   "source": [
    "csv_ids = [\"Q3_2020\"]\n",
    "DATA_ROOT_DIR = 'Backblaze'\n",
    "for csv_id in csv_ids:\n",
    "    df = dd.read_csv(os.path.join(DATA_ROOT_DIR, 'data_{}'.format(csv_id), '*.csv'), dtype=custom_dtypes)"
   ]
  },
  {
   "cell_type": "markdown",
   "metadata": {},
   "source": [
    "We want to filter our dataset so that it contains only wdc drives."
   ]
  },
  {
   "cell_type": "code",
   "execution_count": 4,
   "metadata": {},
   "outputs": [],
   "source": [
    "wdc  = df[df.model.str.startswith(\"W\")]"
   ]
  },
  {
   "cell_type": "markdown",
   "metadata": {},
   "source": [
    "We will then grab a list of drives that never failed in this time period and those that did in order to ensure that our final datasets include failed drives.  "
   ]
  },
  {
   "cell_type": "code",
   "execution_count": 5,
   "metadata": {},
   "outputs": [
    {
     "name": "stdout",
     "output_type": "stream",
     "text": [
      "[########################################] | 100% Completed |  1min 35.3s\n"
     ]
    }
   ],
   "source": [
    "failed_serials = wdc[wdc['failure'] == 1]['serial_number'].compute()"
   ]
  },
  {
   "cell_type": "code",
   "execution_count": 6,
   "metadata": {},
   "outputs": [
    {
     "name": "stdout",
     "output_type": "stream",
     "text": [
      "[########################################] | 100% Completed |  1min 33.5s\n"
     ]
    }
   ],
   "source": [
    "working_serials = wdc[~wdc['serial_number'].isin(failed_serials)]\\\n",
    "                    ['serial_number']\\\n",
    "                    .drop_duplicates(keep='last')\\\n",
    "                    .compute()"
   ]
  },
  {
   "cell_type": "code",
   "execution_count": 7,
   "metadata": {},
   "outputs": [
    {
     "data": {
      "text/plain": [
       "264"
      ]
     },
     "execution_count": 7,
     "metadata": {},
     "output_type": "execute_result"
    }
   ],
   "source": [
    "len(working_serials)"
   ]
  },
  {
   "cell_type": "code",
   "execution_count": 8,
   "metadata": {},
   "outputs": [],
   "source": [
    "random.seed(45)\n",
    "subset_working = random.sample(list(working_serials.values), 90)"
   ]
  },
  {
   "cell_type": "code",
   "execution_count": 9,
   "metadata": {},
   "outputs": [],
   "source": [
    "new_wdc = list(failed_serials.values) + subset_working"
   ]
  },
  {
   "cell_type": "code",
   "execution_count": 10,
   "metadata": {},
   "outputs": [
    {
     "data": {
      "text/plain": [
       "92"
      ]
     },
     "execution_count": 10,
     "metadata": {},
     "output_type": "execute_result"
    }
   ],
   "source": [
    "len(new_wdc)"
   ]
  },
  {
   "cell_type": "code",
   "execution_count": 11,
   "metadata": {},
   "outputs": [],
   "source": [
    "new_wdc = wdc[wdc.serial_number.isin(new_wdc)]"
   ]
  },
  {
   "cell_type": "code",
   "execution_count": 12,
   "metadata": {},
   "outputs": [
    {
     "name": "stdout",
     "output_type": "stream",
     "text": [
      "[########################################] | 100% Completed |  1min 33.8s\n"
     ]
    },
    {
     "data": {
      "text/plain": [
       "8350"
      ]
     },
     "execution_count": 12,
     "metadata": {},
     "output_type": "execute_result"
    }
   ],
   "source": [
    "new_wdc.shape[0].compute()"
   ]
  },
  {
   "cell_type": "code",
   "execution_count": 13,
   "metadata": {},
   "outputs": [
    {
     "name": "stdout",
     "output_type": "stream",
     "text": [
      "[########################################] | 100% Completed |  1min 35.1s\n"
     ]
    },
    {
     "data": {
      "text/plain": [
       "92"
      ]
     },
     "execution_count": 13,
     "metadata": {},
     "output_type": "execute_result"
    }
   ],
   "source": [
    "new_wdc.serial_number.nunique().compute()"
   ]
  },
  {
   "cell_type": "code",
   "execution_count": 14,
   "metadata": {},
   "outputs": [
    {
     "name": "stdout",
     "output_type": "stream",
     "text": [
      "[########################################] | 100% Completed |  1.6s\n"
     ]
    },
    {
     "data": {
      "text/html": [
       "<div>\n",
       "<style scoped>\n",
       "    .dataframe tbody tr th:only-of-type {\n",
       "        vertical-align: middle;\n",
       "    }\n",
       "\n",
       "    .dataframe tbody tr th {\n",
       "        vertical-align: top;\n",
       "    }\n",
       "\n",
       "    .dataframe thead th {\n",
       "        text-align: right;\n",
       "    }\n",
       "</style>\n",
       "<table border=\"1\" class=\"dataframe\">\n",
       "  <thead>\n",
       "    <tr style=\"text-align: right;\">\n",
       "      <th></th>\n",
       "      <th>date</th>\n",
       "      <th>serial_number</th>\n",
       "      <th>model</th>\n",
       "      <th>capacity_bytes</th>\n",
       "      <th>failure</th>\n",
       "      <th>smart_1_normalized</th>\n",
       "      <th>smart_1_raw</th>\n",
       "      <th>smart_2_normalized</th>\n",
       "      <th>smart_2_raw</th>\n",
       "      <th>smart_3_normalized</th>\n",
       "      <th>...</th>\n",
       "      <th>smart_250_normalized</th>\n",
       "      <th>smart_250_raw</th>\n",
       "      <th>smart_251_normalized</th>\n",
       "      <th>smart_251_raw</th>\n",
       "      <th>smart_252_normalized</th>\n",
       "      <th>smart_252_raw</th>\n",
       "      <th>smart_254_normalized</th>\n",
       "      <th>smart_254_raw</th>\n",
       "      <th>smart_255_normalized</th>\n",
       "      <th>smart_255_raw</th>\n",
       "    </tr>\n",
       "  </thead>\n",
       "  <tbody>\n",
       "    <tr>\n",
       "      <th>311</th>\n",
       "      <td>2020-07-01</td>\n",
       "      <td>WD-WX31A356P1DC</td>\n",
       "      <td>WDC WD5000LPVX</td>\n",
       "      <td>5.001079e+11</td>\n",
       "      <td>0.0</td>\n",
       "      <td>200.0</td>\n",
       "      <td>0.0</td>\n",
       "      <td>NaN</td>\n",
       "      <td>NaN</td>\n",
       "      <td>152.0</td>\n",
       "      <td>...</td>\n",
       "      <td>NaN</td>\n",
       "      <td>NaN</td>\n",
       "      <td>NaN</td>\n",
       "      <td>NaN</td>\n",
       "      <td>NaN</td>\n",
       "      <td>NaN</td>\n",
       "      <td>NaN</td>\n",
       "      <td>NaN</td>\n",
       "      <td>NaN</td>\n",
       "      <td>NaN</td>\n",
       "    </tr>\n",
       "    <tr>\n",
       "      <th>661</th>\n",
       "      <td>2020-07-01</td>\n",
       "      <td>WD-WX41A3575J2P</td>\n",
       "      <td>WDC WD5000LPVX</td>\n",
       "      <td>5.001079e+11</td>\n",
       "      <td>0.0</td>\n",
       "      <td>200.0</td>\n",
       "      <td>0.0</td>\n",
       "      <td>NaN</td>\n",
       "      <td>NaN</td>\n",
       "      <td>155.0</td>\n",
       "      <td>...</td>\n",
       "      <td>NaN</td>\n",
       "      <td>NaN</td>\n",
       "      <td>NaN</td>\n",
       "      <td>NaN</td>\n",
       "      <td>NaN</td>\n",
       "      <td>NaN</td>\n",
       "      <td>NaN</td>\n",
       "      <td>NaN</td>\n",
       "      <td>NaN</td>\n",
       "      <td>NaN</td>\n",
       "    </tr>\n",
       "    <tr>\n",
       "      <th>1210</th>\n",
       "      <td>2020-07-01</td>\n",
       "      <td>WD-WX81A1468540</td>\n",
       "      <td>WDC WD5000LPVX</td>\n",
       "      <td>5.001079e+11</td>\n",
       "      <td>0.0</td>\n",
       "      <td>200.0</td>\n",
       "      <td>0.0</td>\n",
       "      <td>NaN</td>\n",
       "      <td>NaN</td>\n",
       "      <td>152.0</td>\n",
       "      <td>...</td>\n",
       "      <td>NaN</td>\n",
       "      <td>NaN</td>\n",
       "      <td>NaN</td>\n",
       "      <td>NaN</td>\n",
       "      <td>NaN</td>\n",
       "      <td>NaN</td>\n",
       "      <td>NaN</td>\n",
       "      <td>NaN</td>\n",
       "      <td>NaN</td>\n",
       "      <td>NaN</td>\n",
       "    </tr>\n",
       "    <tr>\n",
       "      <th>1542</th>\n",
       "      <td>2020-07-01</td>\n",
       "      <td>WD-WX41A356NL78</td>\n",
       "      <td>WDC WD5000LPVX</td>\n",
       "      <td>5.001079e+11</td>\n",
       "      <td>0.0</td>\n",
       "      <td>200.0</td>\n",
       "      <td>0.0</td>\n",
       "      <td>NaN</td>\n",
       "      <td>NaN</td>\n",
       "      <td>154.0</td>\n",
       "      <td>...</td>\n",
       "      <td>NaN</td>\n",
       "      <td>NaN</td>\n",
       "      <td>NaN</td>\n",
       "      <td>NaN</td>\n",
       "      <td>NaN</td>\n",
       "      <td>NaN</td>\n",
       "      <td>NaN</td>\n",
       "      <td>NaN</td>\n",
       "      <td>NaN</td>\n",
       "      <td>NaN</td>\n",
       "    </tr>\n",
       "    <tr>\n",
       "      <th>3779</th>\n",
       "      <td>2020-07-01</td>\n",
       "      <td>WD-WXE1E84AEW27</td>\n",
       "      <td>WDC WD5000LPVX</td>\n",
       "      <td>5.001079e+11</td>\n",
       "      <td>0.0</td>\n",
       "      <td>200.0</td>\n",
       "      <td>0.0</td>\n",
       "      <td>NaN</td>\n",
       "      <td>NaN</td>\n",
       "      <td>151.0</td>\n",
       "      <td>...</td>\n",
       "      <td>NaN</td>\n",
       "      <td>NaN</td>\n",
       "      <td>NaN</td>\n",
       "      <td>NaN</td>\n",
       "      <td>NaN</td>\n",
       "      <td>NaN</td>\n",
       "      <td>NaN</td>\n",
       "      <td>NaN</td>\n",
       "      <td>NaN</td>\n",
       "      <td>NaN</td>\n",
       "    </tr>\n",
       "  </tbody>\n",
       "</table>\n",
       "<p>5 rows × 131 columns</p>\n",
       "</div>"
      ],
      "text/plain": [
       "            date    serial_number           model  capacity_bytes  failure  \\\n",
       "311   2020-07-01  WD-WX31A356P1DC  WDC WD5000LPVX    5.001079e+11      0.0   \n",
       "661   2020-07-01  WD-WX41A3575J2P  WDC WD5000LPVX    5.001079e+11      0.0   \n",
       "1210  2020-07-01  WD-WX81A1468540  WDC WD5000LPVX    5.001079e+11      0.0   \n",
       "1542  2020-07-01  WD-WX41A356NL78  WDC WD5000LPVX    5.001079e+11      0.0   \n",
       "3779  2020-07-01  WD-WXE1E84AEW27  WDC WD5000LPVX    5.001079e+11      0.0   \n",
       "\n",
       "      smart_1_normalized  smart_1_raw  smart_2_normalized  smart_2_raw  \\\n",
       "311                200.0          0.0                 NaN          NaN   \n",
       "661                200.0          0.0                 NaN          NaN   \n",
       "1210               200.0          0.0                 NaN          NaN   \n",
       "1542               200.0          0.0                 NaN          NaN   \n",
       "3779               200.0          0.0                 NaN          NaN   \n",
       "\n",
       "      smart_3_normalized  ...  smart_250_normalized  smart_250_raw  \\\n",
       "311                152.0  ...                   NaN            NaN   \n",
       "661                155.0  ...                   NaN            NaN   \n",
       "1210               152.0  ...                   NaN            NaN   \n",
       "1542               154.0  ...                   NaN            NaN   \n",
       "3779               151.0  ...                   NaN            NaN   \n",
       "\n",
       "      smart_251_normalized  smart_251_raw  smart_252_normalized  \\\n",
       "311                    NaN            NaN                   NaN   \n",
       "661                    NaN            NaN                   NaN   \n",
       "1210                   NaN            NaN                   NaN   \n",
       "1542                   NaN            NaN                   NaN   \n",
       "3779                   NaN            NaN                   NaN   \n",
       "\n",
       "      smart_252_raw  smart_254_normalized  smart_254_raw  \\\n",
       "311             NaN                   NaN            NaN   \n",
       "661             NaN                   NaN            NaN   \n",
       "1210            NaN                   NaN            NaN   \n",
       "1542            NaN                   NaN            NaN   \n",
       "3779            NaN                   NaN            NaN   \n",
       "\n",
       "      smart_255_normalized  smart_255_raw  \n",
       "311                    NaN            NaN  \n",
       "661                    NaN            NaN  \n",
       "1210                   NaN            NaN  \n",
       "1542                   NaN            NaN  \n",
       "3779                   NaN            NaN  \n",
       "\n",
       "[5 rows x 131 columns]"
      ]
     },
     "execution_count": 14,
     "metadata": {},
     "output_type": "execute_result"
    }
   ],
   "source": [
    "new_wdc.head()"
   ]
  },
  {
   "cell_type": "code",
   "execution_count": 15,
   "metadata": {},
   "outputs": [],
   "source": [
    "def random_partition(list_in,n):\n",
    "    random.seed(10)\n",
    "    random.shuffle(list_in)\n",
    "    return [list_in[i::n] for i in range(n)]\n"
   ]
  },
  {
   "cell_type": "code",
   "execution_count": 16,
   "metadata": {},
   "outputs": [],
   "source": [
    "failed_partition = random_partition(list(failed_serials),10)\n",
    "working_partition = random_partition(list(subset_working),10)"
   ]
  },
  {
   "cell_type": "code",
   "execution_count": 17,
   "metadata": {},
   "outputs": [],
   "source": [
    "training = working_partition[0:6] + failed_partition[0:6]\n",
    "testing = working_partition[6:8] + failed_partition[6:8]\n",
    "validation = working_partition[8:] + failed_partition[8:]\n",
    "\n",
    "training = [item for sublist in training for item in sublist]\n",
    "testing = [item for sublist in testing for item in sublist]\n",
    "validation = [item for sublist in validation for item in sublist]"
   ]
  },
  {
   "cell_type": "code",
   "execution_count": 18,
   "metadata": {},
   "outputs": [
    {
     "name": "stdout",
     "output_type": "stream",
     "text": [
      "56\n"
     ]
    }
   ],
   "source": [
    "print(len(training))"
   ]
  },
  {
   "cell_type": "code",
   "execution_count": 19,
   "metadata": {},
   "outputs": [
    {
     "name": "stdout",
     "output_type": "stream",
     "text": [
      "18\n"
     ]
    }
   ],
   "source": [
    "print(len(testing))"
   ]
  },
  {
   "cell_type": "code",
   "execution_count": 20,
   "metadata": {},
   "outputs": [
    {
     "name": "stdout",
     "output_type": "stream",
     "text": [
      "18\n"
     ]
    }
   ],
   "source": [
    "print(len(validation))"
   ]
  },
  {
   "cell_type": "code",
   "execution_count": 21,
   "metadata": {},
   "outputs": [
    {
     "data": {
      "text/plain": [
       "92"
      ]
     },
     "execution_count": 21,
     "metadata": {},
     "output_type": "execute_result"
    }
   ],
   "source": [
    "len(training) + len(testing) + len(validation)"
   ]
  },
  {
   "cell_type": "code",
   "execution_count": 22,
   "metadata": {},
   "outputs": [
    {
     "name": "stdout",
     "output_type": "stream",
     "text": [
      "True\n",
      "True\n",
      "True\n"
     ]
    }
   ],
   "source": [
    "print(len(set(training).intersection(set(testing))) == 0)\n",
    "print(len(set(training).intersection(set(validation))) == 0)\n",
    "print(len(set(testing).intersection(set(validation))) == 0)"
   ]
  },
  {
   "cell_type": "markdown",
   "metadata": {},
   "source": [
    "we have a 60/20/20 split for our data divided by individual hard drives with an similar distribution of failed and working drives in both. We will now save them as 3 separate csv files  "
   ]
  },
  {
   "cell_type": "code",
   "execution_count": 23,
   "metadata": {},
   "outputs": [],
   "source": [
    "training_wdc = new_wdc[new_wdc.serial_number.isin(training)]\n",
    "testing_wdc = new_wdc[new_wdc.serial_number.isin(testing)]\n",
    "validation_wdc = new_wdc[new_wdc.serial_number.isin(validation)]"
   ]
  },
  {
   "cell_type": "code",
   "execution_count": 24,
   "metadata": {},
   "outputs": [
    {
     "name": "stdout",
     "output_type": "stream",
     "text": [
      "[########################################] | 100% Completed |  1min 37.9s\n"
     ]
    }
   ],
   "source": [
    "training_wdc = training_wdc.compute()\n",
    "training_wdc.to_csv('train_backblaze_wdc_q2_2019.csv')\n",
    "del (training_wdc)"
   ]
  },
  {
   "cell_type": "code",
   "execution_count": 25,
   "metadata": {},
   "outputs": [
    {
     "name": "stdout",
     "output_type": "stream",
     "text": [
      "[########################################] | 100% Completed |  1min 36.4s\n"
     ]
    }
   ],
   "source": [
    "testing_wdc = testing_wdc.compute()\n",
    "testing_wdc.to_csv('test_backblaze_wdc_q2_2019.csv')\n",
    "del (testing_wdc)"
   ]
  },
  {
   "cell_type": "code",
   "execution_count": 26,
   "metadata": {},
   "outputs": [
    {
     "name": "stdout",
     "output_type": "stream",
     "text": [
      "[########################################] | 100% Completed |  1min 36.4s\n"
     ]
    }
   ],
   "source": [
    "validation_wdc = validation_wdc.compute()\n",
    "validation_wdc.to_csv('validation_backblaze_wdc_q2_2019.csv')\n",
    "del (validation_wdc)"
   ]
  },
  {
   "cell_type": "code",
   "execution_count": null,
   "metadata": {},
   "outputs": [],
   "source": []
  },
  {
   "cell_type": "code",
   "execution_count": null,
   "metadata": {},
   "outputs": [],
   "source": []
  }
 ],
 "metadata": {
  "celltoolbar": "Slideshow",
  "kernelspec": {
   "display_name": "Python 3",
   "language": "python",
   "name": "python3"
  },
  "language_info": {
   "codemirror_mode": {
    "name": "ipython",
    "version": 3
   },
   "file_extension": ".py",
   "mimetype": "text/x-python",
   "name": "python",
   "nbconvert_exporter": "python",
   "pygments_lexer": "ipython3",
   "version": "3.8.6"
  }
 },
 "nbformat": 4,
 "nbformat_minor": 2
}
